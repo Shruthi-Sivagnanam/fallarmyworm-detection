{
 "cells": [
  {
   "cell_type": "markdown",
   "id": "9d9aaac8",
   "metadata": {},
   "source": [
    "# FallArmyWorm Detection - Image Augmentation\n",
    "\n",
    "This is a fallarmyworm detection which contains only one class."
   ]
  },
  {
   "cell_type": "code",
   "execution_count": 1,
   "id": "f382c1de",
   "metadata": {},
   "outputs": [],
   "source": [
    "import os\n",
    "import glob\n",
    "import cv2\n",
    "import imgaug.augmenters as iaa"
   ]
  },
  {
   "cell_type": "markdown",
   "id": "1bcadc03",
   "metadata": {},
   "source": [
    "# Loading the dataset"
   ]
  },
  {
   "cell_type": "code",
   "execution_count": 2,
   "id": "52f411c0",
   "metadata": {},
   "outputs": [],
   "source": [
    "images =[]\n",
    "\n",
    "for img in glob.glob('finalDataset/test/*.jpg'):\n",
    "    image = cv2.imread(img)\n",
    "    images.append(image)"
   ]
  },
  {
   "cell_type": "code",
   "execution_count": 3,
   "id": "145270ca",
   "metadata": {},
   "outputs": [
    {
     "data": {
      "text/plain": [
       "57"
      ]
     },
     "execution_count": 3,
     "metadata": {},
     "output_type": "execute_result"
    }
   ],
   "source": [
    "len(images)"
   ]
  },
  {
   "cell_type": "markdown",
   "id": "f414248d",
   "metadata": {},
   "source": [
    "# Image Augmentation\n",
    "\n",
    "## Horizontal Flip"
   ]
  },
  {
   "cell_type": "code",
   "execution_count": 4,
   "id": "440d2c8c",
   "metadata": {},
   "outputs": [],
   "source": [
    "augmentation_hflip = iaa.Sequential([\n",
    "    iaa.Fliplr(1) \n",
    "])"
   ]
  },
  {
   "cell_type": "code",
   "execution_count": 5,
   "id": "3bb644d9",
   "metadata": {},
   "outputs": [],
   "source": [
    "augmented_images = augmentation_hflip(images = images)"
   ]
  },
  {
   "cell_type": "code",
   "execution_count": 6,
   "id": "46b49754",
   "metadata": {},
   "outputs": [],
   "source": [
    "i = 899;\n",
    "for img in augmented_images:\n",
    "    cv2.imwrite(os.path.join('trainDataset/image(%i).jpg'%i),img)\n",
    "    i=i+1"
   ]
  },
  {
   "cell_type": "markdown",
   "id": "452e5467",
   "metadata": {},
   "source": [
    "## Vertical Flip"
   ]
  },
  {
   "cell_type": "code",
   "execution_count": 7,
   "id": "86fa5d5d",
   "metadata": {},
   "outputs": [],
   "source": [
    "augmentation_vflip = iaa.Sequential([\n",
    "    iaa.Flipud(1) \n",
    "])"
   ]
  },
  {
   "cell_type": "code",
   "execution_count": 8,
   "id": "9df1e3eb",
   "metadata": {},
   "outputs": [],
   "source": [
    "vaugmented_images = augmentation_vflip(images = images)"
   ]
  },
  {
   "cell_type": "code",
   "execution_count": 9,
   "id": "cc23857f",
   "metadata": {},
   "outputs": [],
   "source": [
    "i = 956;\n",
    "for img in vaugmented_images:\n",
    "    cv2.imwrite(os.path.join('trainDataset/image(%i).jpg'%i),img)\n",
    "    i=i+1"
   ]
  },
  {
   "cell_type": "markdown",
   "id": "7d98ba33",
   "metadata": {},
   "source": [
    "## Linear Contrast"
   ]
  },
  {
   "cell_type": "code",
   "execution_count": 10,
   "id": "c532c842",
   "metadata": {},
   "outputs": [],
   "source": [
    "augmentation_contrast = iaa.Sequential([\n",
    "    iaa.LinearContrast((0.6,1.4))\n",
    "])"
   ]
  },
  {
   "cell_type": "code",
   "execution_count": 11,
   "id": "4c7f79c8",
   "metadata": {},
   "outputs": [],
   "source": [
    "laugmentation_images = augmentation_contrast(images = images)"
   ]
  },
  {
   "cell_type": "code",
   "execution_count": 12,
   "id": "b318a622",
   "metadata": {},
   "outputs": [],
   "source": [
    "i = 1013;\n",
    "for img in laugmentation_images:\n",
    "    cv2.imwrite(os.path.join('trainDataset/image(%i).jpg'%i),img)\n",
    "    i=i+1"
   ]
  },
  {
   "cell_type": "markdown",
   "id": "e61ab6ed",
   "metadata": {},
   "source": [
    "## Gamma  Constrast"
   ]
  },
  {
   "cell_type": "code",
   "execution_count": 13,
   "id": "b9a0cbc6",
   "metadata": {},
   "outputs": [],
   "source": [
    "augmentation_gama = iaa.GammaContrast((0.5,0.2))"
   ]
  },
  {
   "cell_type": "code",
   "execution_count": 14,
   "id": "a0afbba0",
   "metadata": {},
   "outputs": [],
   "source": [
    "gaugmentation_images = augmentation_gama(images=images)"
   ]
  },
  {
   "cell_type": "code",
   "execution_count": 15,
   "id": "07682d0d",
   "metadata": {},
   "outputs": [],
   "source": [
    "i=1070;\n",
    "for img in gaugmentation_images:\n",
    "    cv2.imwrite(os.path.join('trainDataset/image(%i).jpg'%i),img)\n",
    "    i=i+1"
   ]
  },
  {
   "cell_type": "markdown",
   "id": "6ef13fd4",
   "metadata": {},
   "source": [
    "# Sigmoid Contrast"
   ]
  },
  {
   "cell_type": "code",
   "execution_count": 16,
   "id": "dbcb6d37",
   "metadata": {},
   "outputs": [],
   "source": [
    "augmentation_sigmoid = iaa.SigmoidContrast(gain=(5,10),cutoff=(0.4,0.6))"
   ]
  },
  {
   "cell_type": "code",
   "execution_count": 17,
   "id": "d7648bf1",
   "metadata": {},
   "outputs": [],
   "source": [
    "saugmentation_images = augmentation_sigmoid(images=images)"
   ]
  },
  {
   "cell_type": "code",
   "execution_count": 18,
   "id": "53404bfc",
   "metadata": {},
   "outputs": [],
   "source": [
    "i=1127;\n",
    "for img in saugmentation_images:\n",
    "    cv2.imwrite(os.path.join('trainDataset/image(%i).jpg'%i),img)\n",
    "    i=i+1"
   ]
  },
  {
   "cell_type": "markdown",
   "id": "0290624e",
   "metadata": {},
   "source": [
    "## Gaussian Noise"
   ]
  },
  {
   "cell_type": "code",
   "execution_count": 19,
   "id": "72e6c782",
   "metadata": {},
   "outputs": [],
   "source": [
    "noise_image = iaa.AdditiveGaussianNoise(10,40)"
   ]
  },
  {
   "cell_type": "code",
   "execution_count": 20,
   "id": "ee384a12",
   "metadata": {},
   "outputs": [],
   "source": [
    "naugmentation_images = noise_image(images=images)"
   ]
  },
  {
   "cell_type": "code",
   "execution_count": 21,
   "id": "2b1733fb",
   "metadata": {},
   "outputs": [],
   "source": [
    "i=1184;\n",
    "for img in naugmentation_images:\n",
    "    cv2.imwrite(os.path.join('trainDataset/image(%i).jpg'%i),img)\n",
    "    i=i+1"
   ]
  },
  {
   "cell_type": "markdown",
   "id": "2ad7dc63",
   "metadata": {},
   "source": [
    "# Saving all the images in a single folder"
   ]
  },
  {
   "cell_type": "code",
   "execution_count": 22,
   "id": "eef0297f",
   "metadata": {},
   "outputs": [
    {
     "data": {
      "text/plain": [
       "57"
      ]
     },
     "execution_count": 22,
     "metadata": {},
     "output_type": "execute_result"
    }
   ],
   "source": [
    "len(images)"
   ]
  },
  {
   "cell_type": "code",
   "execution_count": 23,
   "id": "5073bb06",
   "metadata": {},
   "outputs": [],
   "source": [
    "i = 1241\n",
    "for img in images:\n",
    "    cv2.imwrite(os.path.join('trainDataset/image(%i).jpg'%i),img)\n",
    "    i=i+1"
   ]
  }
 ],
 "metadata": {
  "kernelspec": {
   "display_name": "Python 3 (ipykernel)",
   "language": "python",
   "name": "python3"
  },
  "language_info": {
   "codemirror_mode": {
    "name": "ipython",
    "version": 3
   },
   "file_extension": ".py",
   "mimetype": "text/x-python",
   "name": "python",
   "nbconvert_exporter": "python",
   "pygments_lexer": "ipython3",
   "version": "3.10.9"
  }
 },
 "nbformat": 4,
 "nbformat_minor": 5
}
